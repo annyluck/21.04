{
  "nbformat": 4,
  "nbformat_minor": 0,
  "metadata": {
    "colab": {
      "provenance": []
    },
    "kernelspec": {
      "name": "python3",
      "display_name": "Python 3"
    },
    "language_info": {
      "name": "python"
    }
  },
  "cells": [
    {
      "cell_type": "code",
      "execution_count": null,
      "metadata": {
        "colab": {
          "base_uri": "https://localhost:8080/"
        },
        "id": "VwUZDpYxleyi",
        "outputId": "f88ce5d0-a716-4ab0-84bc-4a575137d340"
      },
      "outputs": [
        {
          "output_type": "stream",
          "name": "stdout",
          "text": [
            "37\n"
          ]
        }
      ],
      "source": [
        "import random\n",
        "x = random.randint (0,100)\n",
        "\n",
        "print (x)"
      ]
    },
    {
      "cell_type": "code",
      "source": [
        "import random\n",
        "a = random.randint (1,6)\n",
        "b = random.randint (1,6)\n",
        "c = random.randint (1,6)\n",
        "d = random.randint (1,6)\n",
        "total = a + b + c + d \n",
        "print (\" общая сумма \" total)"
      ],
      "metadata": {
        "id": "ZjLiV9OIqor1",
        "colab": {
          "base_uri": "https://localhost:8080/",
          "height": 130
        },
        "outputId": "79abe248-589e-4feb-90f6-df714d1afbb2"
      },
      "execution_count": 10,
      "outputs": [
        {
          "output_type": "error",
          "ename": "SyntaxError",
          "evalue": "ignored",
          "traceback": [
            "\u001b[0;36m  File \u001b[0;32m\"<ipython-input-10-9891a69651aa>\"\u001b[0;36m, line \u001b[0;32m7\u001b[0m\n\u001b[0;31m    print (\" общая сумма \" total)\u001b[0m\n\u001b[0m           ^\u001b[0m\n\u001b[0;31mSyntaxError\u001b[0m\u001b[0;31m:\u001b[0m invalid syntax. Perhaps you forgot a comma?\n"
          ]
        }
      ]
    },
    {
      "cell_type": "code",
      "source": [
        "import random\n",
        "a = random.randint (1,6)\n",
        "b = random.randint (1,6)\n",
        "c = random.randint (1,6)\n",
        "d = random.randint (1,6)\n",
        "total = a + b + c + d \n",
        "print ( \"бросок 1 \", a, \"бросок 2 \", b, \"бросок 3 \" , c, \" бросок 4 \" , d)\n",
        "print ( \"общая сумма \" total)"
      ],
      "metadata": {
        "colab": {
          "base_uri": "https://localhost:8080/",
          "height": 130
        },
        "id": "j8tIkqeftz8Y",
        "outputId": "7b0c0098-664b-46aa-d097-53c2de0144e8"
      },
      "execution_count": 12,
      "outputs": [
        {
          "output_type": "error",
          "ename": "SyntaxError",
          "evalue": "ignored",
          "traceback": [
            "\u001b[0;36m  File \u001b[0;32m\"<ipython-input-12-5c3eacd2f550>\"\u001b[0;36m, line \u001b[0;32m8\u001b[0m\n\u001b[0;31m    print ( \"общая сумма \" total)\u001b[0m\n\u001b[0m            ^\u001b[0m\n\u001b[0;31mSyntaxError\u001b[0m\u001b[0;31m:\u001b[0m invalid syntax. Perhaps you forgot a comma?\n"
          ]
        }
      ]
    },
    {
      "cell_type": "code",
      "source": [
        "import random\n",
        "a = random.randint (1,6)\n",
        "b = random.randint (1,6)\n",
        "c = random.randint (1,6)\n",
        "d = random.randint (1,6)\n",
        "total = a + b + c + d \n",
        "print (\"бросок 1\", a, \"бросок 2\", b, \"бросок 3\", c, \"бросок 4\", d )\n",
        "print (\"общая сумма\", total)"
      ],
      "metadata": {
        "colab": {
          "base_uri": "https://localhost:8080/"
        },
        "id": "fjIl15yRu5he",
        "outputId": "646d9f60-d834-4590-d220-e9a6f6ff6922"
      },
      "execution_count": 13,
      "outputs": [
        {
          "output_type": "stream",
          "name": "stdout",
          "text": [
            "бросок 1 1 бросок 2 4 бросок 3 5 бросок 4 2\n",
            "общая сумма 12\n"
          ]
        }
      ]
    },
    {
      "cell_type": "code",
      "source": [
        "import random\n",
        "k = 4\n",
        "y = []\n",
        "\n",
        "while k != 0:\n",
        "  x = random.randint(1,6)\n",
        "  k -= 1\n",
        "  y.append(x)\n",
        "  print (y)\n",
        "\n",
        "  print (\"суммарное значение четырех бросков\", sum(y))\n"
      ],
      "metadata": {
        "colab": {
          "base_uri": "https://localhost:8080/"
        },
        "id": "korJIRLovnWz",
        "outputId": "836b4840-2cec-4f1d-b38a-d6c44b84b676"
      },
      "execution_count": 14,
      "outputs": [
        {
          "output_type": "stream",
          "name": "stdout",
          "text": [
            "[3]\n",
            "суммарное значение четырех бросков 3\n",
            "[3, 2]\n",
            "суммарное значение четырех бросков 5\n",
            "[3, 2, 5]\n",
            "суммарное значение четырех бросков 10\n",
            "[3, 2, 5, 1]\n",
            "суммарное значение четырех бросков 11\n"
          ]
        }
      ]
    },
    {
      "cell_type": "code",
      "source": [
        "import random\n",
        "\n",
        "chars = '+-/*!&$#?=@<>abcdefghijklnopqrstuvwxyzABCDEFGHIJKLMNOPQRSTUVWXYZ1234567890'\n",
        "length = input('длинна пароля:' + \"\\n\")\n",
        "password =\"\"\n",
        "\n",
        "\n",
        "try:\n",
        "  length = int(length)\n",
        "  for  i in range(length):\n",
        "    password += random.choice(chars)\n",
        "  print(\"ваш пароль: \", password)\n",
        "\n",
        "except ValueError:\n",
        "  print (\"ввел не цифры, а буквы или символ\")  \n",
        "\n",
        "finally:\n",
        "  password = \"\"\n",
        "  length = input('длинна пароля:' + \"\\n\")\n",
        "  length = int(length)\n",
        "  for  i in range(length):\n",
        "    password += random.choice(chars)\n",
        "  print(\"ваш пароль: \", password)\n",
        "\n",
        "\n"
      ],
      "metadata": {
        "colab": {
          "base_uri": "https://localhost:8080/"
        },
        "id": "x0T8CXuqzGAT",
        "outputId": "1f4f2c20-39d0-4f40-ea4e-b6cd12ab71fe"
      },
      "execution_count": 19,
      "outputs": [
        {
          "output_type": "stream",
          "name": "stdout",
          "text": [
            "длинна пароля:\n",
            "99\n",
            "ваш пароль:  gsjf6ETiAYeUrtDiKHx#wMERNp>KsqgsY4@@by$2QG4T86MGoLArA3nijU-7Jyy1$84tzxK0BHBodOiK#1?5RQ-4bU=/Vljovxj\n",
            "длинна пароля:\n",
            "9\n",
            "ваш пароль:  4peHQxGPZ\n"
          ]
        }
      ]
    }
  ]
}